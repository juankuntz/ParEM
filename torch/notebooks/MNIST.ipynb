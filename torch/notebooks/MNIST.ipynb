{
 "cells": [
  {
   "cell_type": "markdown",
   "metadata": {
    "colab_type": "text",
    "id": "view-in-github"
   },
   "source": [
    "<a href=\"https://colab.research.google.com/github/juankuntz/ParEM/blob/fixes_and_more_documention/torch/notebooks/MNIST.ipynb\" target=\"_parent\"><img src=\"https://colab.research.google.com/assets/colab-badge.svg\" alt=\"Open In Colab\"/></a>"
   ]
  },
  {
   "cell_type": "markdown",
   "metadata": {
    "id": "_ELgDUrII6Ln"
   },
   "source": [
    "## Colab setup\n",
    "\n",
    "Installs and imports the necessary modules. Variables of interest:\n",
    "\n",
    "* `DATASET_PATH`: The directory of the dataset to be loaded or downloaded.\n",
    "* `CHECKPOINTS_PATH`: The directory where the checkpoints will be saved."
   ]
  },
  {
   "cell_type": "code",
   "execution_count": 1,
   "metadata": {
    "id": "TLCqb7XBKj2b",
    "tags": []
   },
   "outputs": [],
   "source": [
    "%%capture\n",
    "# Set paths\n",
    "from google.colab import drive\n",
    "drive.mount(\"/content/gdrive\", force_remount=False) # Mount drive to VM in colab\n",
    "DATASET_PATH = '/content/ParEM/datasets/MNIST'\n",
    "CHECKPOINTS_PATH = '/content/gdrive/MyDrive/ParEM/checkpoints'\n",
    "\n",
    "# Install missing packages\n",
    "!pip install torchtyping\n",
    "!pip install torchmetrics[image]\n",
    "!pip install wandb\n",
    "\n",
    "# Import standard modules\n",
    "import sys\n",
    "\n",
    "# Import custom modules\n",
    "!rm -rf ParEM\n",
    "!git clone https://github.com/juankuntz/ParEM.git\n",
    "REPOSITORY_PATH = '/content/ParEM/torch'\n",
    "if REPOSITORY_PATH not in sys.path:\n",
    "    sys.path.append(REPOSITORY_PATH)"
   ]
  },
  {
   "cell_type": "markdown",
   "metadata": {},
   "source": [
    "## Local setup\n",
    "\n",
    "Installs and imports the necessary modules. Variables of interest:\n",
    "\n",
    "* `DATASET_PATH`: The directory of the dataset to be loaded or downloaded.\n",
    "* `CHECKPOINTS_PATH`: The directory where the checkpoints will be saved."
   ]
  },
  {
   "cell_type": "code",
   "execution_count": null,
   "metadata": {},
   "outputs": [],
   "source": [
    "# # Import standard modules\n",
    "# import sys\n",
    "\n",
    "# sys.path.append(\"../\")\n",
    "\n",
    "# DATASET_PATH = '../datasets/MNIST'\n",
    "# CHECKPOINTS_PATH = '../checkpoints'"
   ]
  },
  {
   "cell_type": "markdown",
   "metadata": {
    "id": "bdeY8MWzI6Lq"
   },
   "source": [
    "## General setup"
   ]
  },
  {
   "cell_type": "code",
   "execution_count": 2,
   "metadata": {
    "id": "HhHKhq7tI6Lq"
   },
   "outputs": [],
   "source": [
    "# Import standard modules\n",
    "import torch\n",
    "import numpy as np\n",
    "import matplotlib.pyplot as plt\n",
    "import pickle\n",
    "\n",
    "# Import custom modules\n",
    "from parem.models import NLVM\n",
    "from parem.algorithms import (PGD,\n",
    "                              ShortRun,\n",
    "                              VI,\n",
    "                              AlternatingBackprop)\n",
    "from parem.utils import get_mnist, load_checkpoint"
   ]
  },
  {
   "cell_type": "markdown",
   "metadata": {
    "id": "3S7vBXKyCtX3"
   },
   "source": [
    "# Set config variables"
   ]
  },
  {
   "cell_type": "code",
   "execution_count": 3,
   "metadata": {
    "id": "Ssu1R-nnaGpW"
   },
   "outputs": [],
   "source": [
    "# Data setttings\n",
    "N_IMAGES = 10000  # M: training set size \n",
    "\n",
    "# Training settings\n",
    "N_BATCH = 128 # M_b: batch size for theta updates\n",
    "N_EPOCHS = 100 # n_epochs = K * M_b / M where K = total number of iterations\n",
    "SEED = 1 # Seed for PRNG\n",
    "# Device on which to carry out computations:\n",
    "DEVICE = \"cuda\" if torch.cuda.is_available() else \"cpu\"\n",
    "OPTIMIZER = 'rmsprop'  # Theta optimizer\n",
    "\n",
    "# Model Settings\n",
    "X_DIM = 64  # d_x: dimension of latent space\n",
    "LIKELIHOOD_VAR = 0.01 ** 2  # sigma^2\n",
    "\n",
    "# PGD Settings\n",
    "STEP_SIZE = 1e-4 # h: step size \n",
    "LAMBDA = 1e-3 / (STEP_SIZE * N_IMAGES)  # lambda\n",
    "N_PARTICLES = 10 # N: number of particles"
   ]
  },
  {
   "cell_type": "markdown",
   "metadata": {
    "id": "tbrwaBFyRb4P"
   },
   "source": [
    "# Load dataset"
   ]
  },
  {
   "cell_type": "code",
   "execution_count": 4,
   "metadata": {
    "colab": {
     "base_uri": "https://localhost:8080/",
     "height": 423,
     "referenced_widgets": [
      "3a5cc1aa5d1247b3aef51dc263b3cc0c",
      "bd41d80c3a39481aa0be5da923741a2f",
      "1ddcb564f88a42b09093b9750e312680",
      "1d9283cbd0c0437797f31d89a47e89e2",
      "edc0b50a8a6748df94c5e947beab2c1b",
      "9313e64057194e4e940fe327b50bd122",
      "b4538c0964c142748dbaca51c7bd9e87",
      "1d7b1125c048464ea823160a644cb94c",
      "a4dfec7ee0244ecbb8d69d82ae22ebee",
      "edf885d00fcf46f784473ab2bebce7ca",
      "c14bbb9952dd43a9b6826c88ec7b26e9",
      "980678e74d144e648dd0b599acfd4152",
      "593d73e17daf4d94a3dfe33783e21265",
      "103768d464ec492498d4cc0ba42a2a56",
      "f3b26c16cd034d6799469927a3411b6a",
      "e39f51f3c5274f75b065c39b12001861",
      "04da3626119b4a0fa3f88dc3c0873993",
      "2e18702deba7494f82ba64e85f54c3b0",
      "ac6d6a7d7e354ef0aaf63c69f944c6b1",
      "a75595bac0c74c37981f05cda3025cf2",
      "4980d82a125b44b4a4f960292885b35f",
      "c5589afaf36642ea8325b3ef5ae3cfd7",
      "3340a8509771416999d24de04f9fc7ed",
      "395869cc26a54890a13411827eddd02d",
      "44ba2ee8fb57423a90e43683c5e1be3e",
      "c8ba056df5424a8092139d58c89274ca",
      "3549fce24fd240b1ab1362afa1b12464",
      "d3f33e6ee82d4a72aa0d95117f3133ff",
      "556a950135804afe92f55b49904b9d34",
      "d71379c87e51447084fca5ecce75f2da",
      "3de268f941ef4e91b6cfb613e3715f16",
      "de06651101284b11900105cf44b9ba1a",
      "1e81a0b7f6d74aba98417136149a7c25",
      "43b28443281b4c6e9346594841f23d82",
      "631c57e6dd654a21bb0d870f2738e639",
      "2768086e8af54b89a8deb5f3a3846b79",
      "3e75b5b13a3c4631a5dec36eb71edabc",
      "a91362834e5b40dca5f74fd3585fbf48",
      "5d50f0ce749d43b1aff758f593274bb3",
      "a3b8bdedb5364e07be33674c64bd6cca",
      "2baa8e0b96a84f08967975094d100f2a",
      "562c05dd74b1419e99a01cfeeeaf46d4",
      "10898414eb4d402389b7e4cf3a18d326",
      "abdc0b273bac4dc8aa027baf2bd80799"
     ]
    },
    "id": "aXOewTu5Piuw",
    "outputId": "c936162c-82ed-4cce-ebbd-bee172fbb0c2"
   },
   "outputs": [
    {
     "name": "stdout",
     "output_type": "stream",
     "text": [
      "Downloading http://yann.lecun.com/exdb/mnist/train-images-idx3-ubyte.gz\n",
      "Downloading http://yann.lecun.com/exdb/mnist/train-images-idx3-ubyte.gz to /content/ParEM/datasets/MNIST/MNIST/raw/train-images-idx3-ubyte.gz\n"
     ]
    },
    {
     "data": {
      "application/vnd.jupyter.widget-view+json": {
       "model_id": "3a5cc1aa5d1247b3aef51dc263b3cc0c",
       "version_major": 2,
       "version_minor": 0
      },
      "text/plain": [
       "  0%|          | 0/9912422 [00:00<?, ?it/s]"
      ]
     },
     "metadata": {},
     "output_type": "display_data"
    },
    {
     "name": "stdout",
     "output_type": "stream",
     "text": [
      "Extracting /content/ParEM/datasets/MNIST/MNIST/raw/train-images-idx3-ubyte.gz to /content/ParEM/datasets/MNIST/MNIST/raw\n",
      "\n",
      "Downloading http://yann.lecun.com/exdb/mnist/train-labels-idx1-ubyte.gz\n",
      "Downloading http://yann.lecun.com/exdb/mnist/train-labels-idx1-ubyte.gz to /content/ParEM/datasets/MNIST/MNIST/raw/train-labels-idx1-ubyte.gz\n"
     ]
    },
    {
     "data": {
      "application/vnd.jupyter.widget-view+json": {
       "model_id": "980678e74d144e648dd0b599acfd4152",
       "version_major": 2,
       "version_minor": 0
      },
      "text/plain": [
       "  0%|          | 0/28881 [00:00<?, ?it/s]"
      ]
     },
     "metadata": {},
     "output_type": "display_data"
    },
    {
     "name": "stdout",
     "output_type": "stream",
     "text": [
      "Extracting /content/ParEM/datasets/MNIST/MNIST/raw/train-labels-idx1-ubyte.gz to /content/ParEM/datasets/MNIST/MNIST/raw\n",
      "\n",
      "Downloading http://yann.lecun.com/exdb/mnist/t10k-images-idx3-ubyte.gz\n",
      "Downloading http://yann.lecun.com/exdb/mnist/t10k-images-idx3-ubyte.gz to /content/ParEM/datasets/MNIST/MNIST/raw/t10k-images-idx3-ubyte.gz\n"
     ]
    },
    {
     "data": {
      "application/vnd.jupyter.widget-view+json": {
       "model_id": "3340a8509771416999d24de04f9fc7ed",
       "version_major": 2,
       "version_minor": 0
      },
      "text/plain": [
       "  0%|          | 0/1648877 [00:00<?, ?it/s]"
      ]
     },
     "metadata": {},
     "output_type": "display_data"
    },
    {
     "name": "stdout",
     "output_type": "stream",
     "text": [
      "Extracting /content/ParEM/datasets/MNIST/MNIST/raw/t10k-images-idx3-ubyte.gz to /content/ParEM/datasets/MNIST/MNIST/raw\n",
      "\n",
      "Downloading http://yann.lecun.com/exdb/mnist/t10k-labels-idx1-ubyte.gz\n",
      "Downloading http://yann.lecun.com/exdb/mnist/t10k-labels-idx1-ubyte.gz to /content/ParEM/datasets/MNIST/MNIST/raw/t10k-labels-idx1-ubyte.gz\n"
     ]
    },
    {
     "data": {
      "application/vnd.jupyter.widget-view+json": {
       "model_id": "43b28443281b4c6e9346594841f23d82",
       "version_major": 2,
       "version_minor": 0
      },
      "text/plain": [
       "  0%|          | 0/4542 [00:00<?, ?it/s]"
      ]
     },
     "metadata": {},
     "output_type": "display_data"
    },
    {
     "name": "stdout",
     "output_type": "stream",
     "text": [
      "Extracting /content/ParEM/datasets/MNIST/MNIST/raw/t10k-labels-idx1-ubyte.gz to /content/ParEM/datasets/MNIST/MNIST/raw\n",
      "\n"
     ]
    }
   ],
   "source": [
    "mnist = get_mnist(DATASET_PATH, N_IMAGES)  # Load dataset"
   ]
  },
  {
   "cell_type": "markdown",
   "metadata": {
    "id": "mDZ3YFSSF5zK"
   },
   "source": [
    "# Define model and training algorithm\n",
    "\n",
    "The training algorithm selected here is `PGD`. Other algorithms have been implemented in the paper such as:\n",
    "\n",
    "* [Short Run MCMC](https://arxiv.org/abs/1912.01909) using the class called `ShortRun`.\n",
    "* [Variational Inference](https://arxiv.org/pdf/1312.6114.pdf) using the class called `VI`.\n",
    "* [Alternating Backpropagation](https://arxiv.org/abs/1606.08571) using the class called `AlternatingBackprop`.\n",
    "\n",
    "Their interface is similar to `PGD`, this can be seen in `torch/parem/algorithm`."
   ]
  },
  {
   "cell_type": "code",
   "execution_count": 5,
   "metadata": {
    "id": "TKsiYi21Falp"
   },
   "outputs": [],
   "source": [
    "# Define model:\n",
    "model = NLVM(x_dim=X_DIM, sigma2=LIKELIHOOD_VAR, nc=1).to(DEVICE)\n",
    "\n",
    "# Define training algorithm:\n",
    "pgd = PGD(model=model,\n",
    "          dataset=mnist,\n",
    "          train_batch_size=N_BATCH,\n",
    "          lambd=LAMBDA,\n",
    "          n_particles=N_PARTICLES,\n",
    "          particle_step_size=STEP_SIZE,\n",
    "          device=DEVICE,\n",
    "          theta_optimizer=OPTIMIZER)"
   ]
  },
  {
   "cell_type": "markdown",
   "metadata": {
    "id": "T2CxOMNBFjLY"
   },
   "source": [
    "# Train\n",
    "\n",
    "Calling `{PGD , VI, AlternatingBackprop, ShortRun}.run(...)` will train the model. Using the options, we can have more transparency about the progress during training\n",
    "* `wandb_log`: Using [Weights and Biases](https://wandb.ai/site) to log the training.\n",
    "* `log_images`: Logged images using [Weights and Biases](https://wandb.ai/site).\n",
    "* `compute_stats`: Compute FID, and MSE during training process."
   ]
  },
  {
   "cell_type": "code",
   "execution_count": 6,
   "metadata": {
    "cellView": "code",
    "colab": {
     "base_uri": "https://localhost:8080/"
    },
    "id": "weq8_THjRHw-",
    "outputId": "bcadd27c-6ecd-4810-ce8e-3df6b3f67b81"
   },
   "outputs": [
    {
     "name": "stdout",
     "output_type": "stream",
     "text": [
      "...............................................................................Epoch 0: Loss 1707596.797,\n",
      "...............................................................................Epoch 1: Loss 1315769.513,\n",
      "...............................................................................Epoch 2: Loss 1016233.480,\n",
      "...............................................................................Epoch 3: Loss 696157.918,\n",
      "...............................................................................Epoch 4: Loss 488011.247,\n",
      "...............................................................................Epoch 5: Loss 386899.485,\n",
      "...............................................................................Epoch 6: Loss 320952.702,\n",
      "...............................................................................Epoch 7: Loss 266570.640,\n",
      "...............................................................................Epoch 8: Loss 230717.224,\n",
      "...............................................................................Epoch 9: Loss 204984.451,\n",
      "...............................................................................Epoch 10: Loss 180575.412,\n",
      "...............................................................................Epoch 11: Loss 161465.606,\n",
      "...............................................................................Epoch 12: Loss 151618.210,\n",
      "...............................................................................Epoch 13: Loss 139489.003,\n",
      "...............................................................................Epoch 14: Loss 128957.351,\n",
      "...............................................................................Epoch 15: Loss 118240.821,\n",
      "...............................................................................Epoch 16: Loss 111438.961,\n",
      "...............................................................................Epoch 17: Loss 107343.485,\n",
      "...............................................................................Epoch 18: Loss 100964.667,\n",
      "...............................................................................Epoch 19: Loss 96735.388,\n",
      "...............................................................................Epoch 20: Loss 91557.840,\n",
      "...............................................................................Epoch 21: Loss 90794.282,\n",
      "...............................................................................Epoch 22: Loss 88540.873,\n",
      "...............................................................................Epoch 23: Loss 83068.685,\n",
      "...............................................................................Epoch 24: Loss 80018.271,\n",
      "...............................................................................Epoch 25: Loss 75184.402,\n",
      "...............................................................................Epoch 26: Loss 75827.217,\n",
      "...............................................................................Epoch 27: Loss 73974.447,\n",
      "...............................................................................Epoch 28: Loss 72665.344,\n",
      "...............................................................................Epoch 29: Loss 69757.156,\n",
      "...............................................................................Epoch 30: Loss 67942.878,\n",
      "...............................................................................Epoch 31: Loss 67129.788,\n",
      "...............................................................................Epoch 32: Loss 68227.291,\n",
      "...............................................................................Epoch 33: Loss 63308.767,\n",
      "...............................................................................Epoch 34: Loss 62729.641,\n",
      "...............................................................................Epoch 35: Loss 62054.351,\n",
      "...............................................................................Epoch 36: Loss 61053.574,\n",
      "...............................................................................Epoch 37: Loss 60155.927,\n",
      "...............................................................................Epoch 38: Loss 59210.927,\n",
      "...............................................................................Epoch 39: Loss 57961.711,\n",
      "...............................................................................Epoch 40: Loss 57815.944,\n",
      "...............................................................................Epoch 41: Loss 55672.502,\n",
      "...............................................................................Epoch 42: Loss 56280.784,\n",
      "...............................................................................Epoch 43: Loss 54267.516,\n",
      "...............................................................................Epoch 44: Loss 52164.436,\n",
      "...............................................................................Epoch 45: Loss 52724.330,\n",
      "...............................................................................Epoch 46: Loss 53778.564,\n",
      "...............................................................................Epoch 47: Loss 51405.429,\n",
      "...............................................................................Epoch 48: Loss 50835.621,\n",
      "...............................................................................Epoch 49: Loss 50329.301,\n",
      "...............................................................................Epoch 50: Loss 49652.827,\n",
      "...............................................................................Epoch 51: Loss 50838.862,\n",
      "...............................................................................Epoch 52: Loss 48900.869,\n",
      "...............................................................................Epoch 53: Loss 49006.999,\n",
      "...............................................................................Epoch 54: Loss 49145.606,\n",
      "...............................................................................Epoch 55: Loss 48684.277,\n",
      "...............................................................................Epoch 56: Loss 48519.547,\n",
      "...............................................................................Epoch 57: Loss 46249.845,\n",
      "...............................................................................Epoch 58: Loss 46143.714,\n",
      "...............................................................................Epoch 59: Loss 46665.434,\n",
      "...............................................................................Epoch 60: Loss 45503.719,\n",
      "...............................................................................Epoch 61: Loss 44249.416,\n",
      "...............................................................................Epoch 62: Loss 44653.604,\n",
      "...............................................................................Epoch 63: Loss 44430.705,\n",
      "...............................................................................Epoch 64: Loss 44631.387,\n",
      "...............................................................................Epoch 65: Loss 45343.013,\n",
      "...............................................................................Epoch 66: Loss 42680.489,\n",
      "...............................................................................Epoch 67: Loss 43150.984,\n",
      "...............................................................................Epoch 68: Loss 42452.391,\n",
      "...............................................................................Epoch 69: Loss 41857.627,\n",
      "...............................................................................Epoch 70: Loss 41741.697,\n",
      "...............................................................................Epoch 71: Loss 42457.313,\n",
      "...............................................................................Epoch 72: Loss 42447.006,\n",
      "...............................................................................Epoch 73: Loss 42356.721,\n",
      "...............................................................................Epoch 74: Loss 41779.292,\n",
      "...............................................................................Epoch 75: Loss 41211.117,\n",
      "...............................................................................Epoch 76: Loss 40215.126,\n",
      "...............................................................................Epoch 77: Loss 41452.266,\n",
      "...............................................................................Epoch 78: Loss 40598.681,\n",
      "...............................................................................Epoch 79: Loss 38813.346,\n",
      "...............................................................................Epoch 80: Loss 39604.347,\n",
      "...............................................................................Epoch 81: Loss 41027.709,\n",
      "...............................................................................Epoch 82: Loss 39708.129,\n",
      "...............................................................................Epoch 83: Loss 38712.701,\n",
      "...............................................................................Epoch 84: Loss 39541.808,\n",
      "...............................................................................Epoch 85: Loss 38498.165,\n",
      "...............................................................................Epoch 86: Loss 38353.013,\n",
      "...............................................................................Epoch 87: Loss 38193.554,\n",
      "...............................................................................Epoch 88: Loss 38730.535,\n",
      "...............................................................................Epoch 89: Loss 37326.944,\n",
      "...............................................................................Epoch 90: Loss 37225.724,\n",
      "...............................................................................Epoch 91: Loss 37149.302,\n",
      "...............................................................................Epoch 92: Loss 38124.643,\n",
      "...............................................................................Epoch 93: Loss 37568.935,\n",
      "...............................................................................Epoch 94: Loss 37813.802,\n",
      "...............................................................................Epoch 95: Loss 37748.219,\n",
      "...............................................................................Epoch 96: Loss 37153.240,\n",
      "...............................................................................Epoch 97: Loss 36866.432,\n",
      "...............................................................................Epoch 98: Loss 36240.115,\n",
      "...............................................................................Epoch 99: Loss 36072.059,\n"
     ]
    }
   ],
   "source": [
    "# Train:\n",
    "pgd.run(N_EPOCHS,\n",
    "        CHECKPOINTS_PATH + '/mnist_small_batchother.pt',\n",
    "        wandb_log=False,\n",
    "        log_images=False)"
   ]
  },
  {
   "cell_type": "markdown",
   "metadata": {
    "id": "1oKN0IuLupvF"
   },
   "source": [
    "# Show particle cloud\n",
    "\n",
    "Calling `{PGD , VI, AlternatingBackprop, ShortRun}.sample_image_posterior(...)` will be able to view the image that corresponds to the latent variable of an image from the training dataset. The first argument is the index of the training image and the second the number of particles to visualize."
   ]
  },
  {
   "cell_type": "code",
   "execution_count": 7,
   "metadata": {
    "cellView": "form",
    "colab": {
     "base_uri": "https://localhost:8080/",
     "height": 248
    },
    "id": "N2uiBWF1KPSu",
    "outputId": "d7945ec0-6045-4401-b13d-0d327fd6ec8f"
   },
   "outputs": [
    {
     "data": {
      "image/png": "[encoded data removed]",
      "text/plain": [
       "<Figure size 432x288 with 1 Axes>"
      ]
     },
     "metadata": {
      "needs_background": "light"
     },
     "output_type": "display_data"
    }
   ],
   "source": [
    "pgd.sample_image_posterior(10, N_PARTICLES)"
   ]
  },
  {
   "cell_type": "markdown",
   "metadata": {
    "id": "inHFOXauvFAM"
   },
   "source": [
    "# Inpainting \n",
    "\n",
    "Calling `{PGD , VI, AlternatingBackprop, ShortRun}.reconstruct(img, mask=None)` will retrun the reconstruction of `img`. If `mask` is not `None`, then a partially occluded image is passed in and the result can be used to impute the missing pixels specified by the `mask`."
   ]
  },
  {
   "cell_type": "code",
   "execution_count": 10,
   "metadata": {
    "colab": {
     "base_uri": "https://localhost:8080/",
     "height": 1000
    },
    "id": "bF59nI7COLIO",
    "outputId": "e3211663-59eb-4f50-b7ad-7d5213416ec2"
   },
   "outputs": [
    {
     "data": {
      "image/png": "[encoded data removed]",
      "text/plain": [
       "<Figure size 432x288 with 1 Axes>"
      ]
     },
     "metadata": {
      "needs_background": "light"
     },
     "output_type": "display_data"
    },
    {
     "data": {
      "image/png": "[encoded data removed]",
      "text/plain": [
       "<Figure size 432x288 with 1 Axes>"
      ]
     },
     "metadata": {
      "needs_background": "light"
     },
     "output_type": "display_data"
    },
    {
     "data": {
      "image/png": "[encoded data removed]",
      "text/plain": [
       "<Figure size 432x288 with 1 Axes>"
      ]
     },
     "metadata": {
      "needs_background": "light"
     },
     "output_type": "display_data"
    },
    {
     "data": {
      "image/png": "[encoded data removed]",
      "text/plain": [
       "<Figure size 432x288 with 1 Axes>"
      ]
     },
     "metadata": {
      "needs_background": "light"
     },
     "output_type": "display_data"
    },
    {
     "data": {
      "image/png": "[encoded data removed]",
      "text/plain": [
       "<Figure size 432x288 with 1 Axes>"
      ]
     },
     "metadata": {
      "needs_background": "light"
     },
     "output_type": "display_data"
    },
    {
     "data": {
      "image/png": "[encoded data removed]",
      "text/plain": [
       "<Figure size 432x288 with 1 Axes>"
      ]
     },
     "metadata": {
      "needs_background": "light"
     },
     "output_type": "display_data"
    },
    {
     "data": {
      "image/png": "[encoded data removed]",
      "text/plain": [
       "<Figure size 432x288 with 1 Axes>"
      ]
     },
     "metadata": {
      "needs_background": "light"
     },
     "output_type": "display_data"
    },
    {
     "data": {
      "image/png": "[encoded data removed]",
      "text/plain": [
       "<Figure size 432x288 with 1 Axes>"
      ]
     },
     "metadata": {
      "needs_background": "light"
     },
     "output_type": "display_data"
    },
    {
     "data": {
      "image/png": "[encoded data removed]",
      "text/plain": [
       "<Figure size 432x288 with 1 Axes>"
      ]
     },
     "metadata": {
      "needs_background": "light"
     },
     "output_type": "display_data"
    },
    {
     "data": {
      "image/png": "[encoded data removed]",
      "text/plain": [
       "<Figure size 432x288 with 1 Axes>"
      ]
     },
     "metadata": {
      "needs_background": "light"
     },
     "output_type": "display_data"
    },
    {
     "data": {
      "image/png": "[encoded data removed]",
      "text/plain": [
       "<Figure size 432x288 with 1 Axes>"
      ]
     },
     "metadata": {
      "needs_background": "light"
     },
     "output_type": "display_data"
    },
    {
     "data": {
      "image/png": "[encoded data removed]",
      "text/plain": [
       "<Figure size 432x288 with 1 Axes>"
      ]
     },
     "metadata": {
      "needs_background": "light"
     },
     "output_type": "display_data"
    },
    {
     "data": {
      "image/png": "[encoded data removed]",
      "text/plain": [
       "<Figure size 432x288 with 1 Axes>"
      ]
     },
     "metadata": {
      "needs_background": "light"
     },
     "output_type": "display_data"
    },
    {
     "data": {
      "image/png": "[encoded data removed]",
      "text/plain": [
       "<Figure size 432x288 with 1 Axes>"
      ]
     },
     "metadata": {
      "needs_background": "light"
     },
     "output_type": "display_data"
    },
    {
     "data": {
      "image/png": "[encoded data removed]",
      "text/plain": [
       "<Figure size 432x288 with 1 Axes>"
      ]
     },
     "metadata": {
      "needs_background": "light"
     },
     "output_type": "display_data"
    },
    {
     "data": {
      "image/png": "[encoded data removed]",
      "text/plain": [
       "<Figure size 432x288 with 1 Axes>"
      ]
     },
     "metadata": {
      "needs_background": "light"
     },
     "output_type": "display_data"
    },
    {
     "data": {
      "image/png": "[encoded data removed]",
      "text/plain": [
       "<Figure size 432x288 with 1 Axes>"
      ]
     },
     "metadata": {
      "needs_background": "light"
     },
     "output_type": "display_data"
    },
    {
     "data": {
      "image/png": "[encoded data removed]",
      "text/plain": [
       "<Figure size 432x288 with 1 Axes>"
      ]
     },
     "metadata": {
      "needs_background": "light"
     },
     "output_type": "display_data"
    },
    {
     "data": {
      "image/png": "[encoded data removed]",
      "text/plain": [
       "<Figure size 432x288 with 1 Axes>"
      ]
     },
     "metadata": {
      "needs_background": "light"
     },
     "output_type": "display_data"
    },
    {
     "data": {
      "image/png": "[encoded data removed]",
      "text/plain": [
       "<Figure size 432x288 with 1 Axes>"
      ]
     },
     "metadata": {
      "needs_background": "light"
     },
     "output_type": "display_data"
    }
   ],
   "source": [
    "n_missing_img = 20\n",
    "images = mnist[:n_missing_img][0]\n",
    "mask = torch.ones(mnist.height, mnist.width, dtype=torch.bool)\n",
    "\n",
    "for i in range(10, 22):\n",
    "    for j in range(10, 22):\n",
    "        mask[i, j] = False\n",
    "\n",
    "_ = pgd.reconstruct(images, mask)"
   ]
  },
  {
   "cell_type": "markdown",
   "metadata": {
    "id": "lGf5tlEluk-Y"
   },
   "source": [
    "# Generate synthetic samples\n",
    "\n",
    "Generate samples from the model using `{PGD , VI, AlternatingBackprop, ShortRun}.synthesize_images(...)`. The optional argument `approx_type` specifies the approximation used on the posterior. If\n",
    "* `approx_type` is `gmm`. A Gaussian Mixture distribution is used, and `n_components` option specifies the number of components.\n",
    "* `approx_type` is `gaussian`. A Gaussian distribution is used.\n",
    "* `approx_type` is `gaussian_mixture_labels`. A Gaussian distribution is fitted to each class label."
   ]
  },
  {
   "cell_type": "code",
   "execution_count": 11,
   "metadata": {
    "colab": {
     "base_uri": "https://localhost:8080/",
     "height": 248
    },
    "id": "V-rUPIRqugao",
    "outputId": "3ce114a0-488e-4199-a2b9-fec6a14fcfde"
   },
   "outputs": [
    {
     "data": {
      "image/png": "[encoded data removed]",
      "text/plain": [
       "<Figure size 432x288 with 1 Axes>"
      ]
     },
     "metadata": {
      "needs_background": "light"
     },
     "output_type": "display_data"
    }
   ],
   "source": [
    "_ = pgd.synthesize_images(n=64, approx_type='gmm', n_components=100)"
   ]
  },
  {
   "cell_type": "code",
   "execution_count": null,
   "metadata": {
    "id": "2c_SgwsO4q3h"
   },
   "outputs": [],
   "source": []
  }
 ],
 "metadata": {
  "accelerator": "GPU",
  "colab": {
   "collapsed_sections": [],
   "include_colab_link": true,
   "name": "Copy of MNIST.ipynb",
   "provenance": []
  },
  "gpuClass": "premium",
  "kernelspec": {
   "display_name": "Python 3",
   "language": "python",
   "name": "python3"
  },
  "language_info": {
   "codemirror_mode": {
    "name": "ipython",
    "version": 3
   },
   "file_extension": ".py",
   "mimetype": "text/x-python",
   "name": "python",
   "nbconvert_exporter": "python",
   "pygments_lexer": "ipython3",
   "version": "3.7.0"
  },
  "widgets": {
   "application/vnd.jupyter.widget-state+json": {
    "04da3626119b4a0fa3f88dc3c0873993": {
     "model_module": "@jupyter-widgets/base",
     "model_module_version": "1.2.0",
     "model_name": "LayoutModel",
     "state": {
      "_model_module": "@jupyter-widgets/base",
      "_model_module_version": "1.2.0",
      "_model_name": "LayoutModel",
      "_view_count": null,
      "_view_module": "@jupyter-widgets/base",
      "_view_module_version": "1.2.0",
      "_view_name": "LayoutView",
      "align_content": null,
      "align_items": null,
      "align_self": null,
      "border": null,
      "bottom": null,
      "display": null,
      "flex": null,
      "flex_flow": null,
      "grid_area": null,
      "grid_auto_columns": null,
      "grid_auto_flow": null,
      "grid_auto_rows": null,
      "grid_column": null,
      "grid_gap": null,
      "grid_row": null,
      "grid_template_areas": null,
      "grid_template_columns": null,
      "grid_template_rows": null,
      "height": null,
      "justify_content": null,
      "justify_items": null,
      "left": null,
      "margin": null,
      "max_height": null,
      "max_width": null,
      "min_height": null,
      "min_width": null,
      "object_fit": null,
      "object_position": null,
      "order": null,
      "overflow": null,
      "overflow_x": null,
      "overflow_y": null,
      "padding": null,
      "right": null,
      "top": null,
      "visibility": null,
      "width": null
     }
    },
    "103768d464ec492498d4cc0ba42a2a56": {
     "model_module": "@jupyter-widgets/controls",
     "model_module_version": "1.5.0",
     "model_name": "FloatProgressModel",
     "state": {
      "_dom_classes": [],
      "_model_module": "@jupyter-widgets/controls",
      "_model_module_version": "1.5.0",
      "_model_name": "FloatProgressModel",
      "_view_count": null,
      "_view_module": "@jupyter-widgets/controls",
      "_view_module_version": "1.5.0",
      "_view_name": "ProgressView",
      "bar_style": "success",
      "description": "",
      "description_tooltip": null,
      "layout": "IPY_MODEL_ac6d6a7d7e354ef0aaf63c69f944c6b1",
      "max": 28881,
      "min": 0,
      "orientation": "horizontal",
      "style": "IPY_MODEL_a75595bac0c74c37981f05cda3025cf2",
      "value": 28881
     }
    },
    "10898414eb4d402389b7e4cf3a18d326": {
     "model_module": "@jupyter-widgets/base",
     "model_module_version": "1.2.0",
     "model_name": "LayoutModel",
     "state": {
      "_model_module": "@jupyter-widgets/base",
      "_model_module_version": "1.2.0",
      "_model_name": "LayoutModel",
      "_view_count": null,
      "_view_module": "@jupyter-widgets/base",
      "_view_module_version": "1.2.0",
      "_view_name": "LayoutView",
      "align_content": null,
      "align_items": null,
      "align_self": null,
      "border": null,
      "bottom": null,
      "display": null,
      "flex": null,
      "flex_flow": null,
      "grid_area": null,
      "grid_auto_columns": null,
      "grid_auto_flow": null,
      "grid_auto_rows": null,
      "grid_column": null,
      "grid_gap": null,
      "grid_row": null,
      "grid_template_areas": null,
      "grid_template_columns": null,
      "grid_template_rows": null,
      "height": null,
      "justify_content": null,
      "justify_items": null,
      "left": null,
      "margin": null,
      "max_height": null,
      "max_width": null,
      "min_height": null,
      "min_width": null,
      "object_fit": null,
      "object_position": null,
      "order": null,
      "overflow": null,
      "overflow_x": null,
      "overflow_y": null,
      "padding": null,
      "right": null,
      "top": null,
      "visibility": null,
      "width": null
     }
    },
    "1d7b1125c048464ea823160a644cb94c": {
     "model_module": "@jupyter-widgets/base",
     "model_module_version": "1.2.0",
     "model_name": "LayoutModel",
     "state": {
      "_model_module": "@jupyter-widgets/base",
      "_model_module_version": "1.2.0",
      "_model_name": "LayoutModel",
      "_view_count": null,
      "_view_module": "@jupyter-widgets/base",
      "_view_module_version": "1.2.0",
      "_view_name": "LayoutView",
      "align_content": null,
      "align_items": null,
      "align_self": null,
      "border": null,
      "bottom": null,
      "display": null,
      "flex": null,
      "flex_flow": null,
      "grid_area": null,
      "grid_auto_columns": null,
      "grid_auto_flow": null,
      "grid_auto_rows": null,
      "grid_column": null,
      "grid_gap": null,
      "grid_row": null,
      "grid_template_areas": null,
      "grid_template_columns": null,
      "grid_template_rows": null,
      "height": null,
      "justify_content": null,
      "justify_items": null,
      "left": null,
      "margin": null,
      "max_height": null,
      "max_width": null,
      "min_height": null,
      "min_width": null,
      "object_fit": null,
      "object_position": null,
      "order": null,
      "overflow": null,
      "overflow_x": null,
      "overflow_y": null,
      "padding": null,
      "right": null,
      "top": null,
      "visibility": null,
      "width": null
     }
    },
    "1d9283cbd0c0437797f31d89a47e89e2": {
     "model_module": "@jupyter-widgets/controls",
     "model_module_version": "1.5.0",
     "model_name": "HTMLModel",
     "state": {
      "_dom_classes": [],
      "_model_module": "@jupyter-widgets/controls",
      "_model_module_version": "1.5.0",
      "_model_name": "HTMLModel",
      "_view_count": null,
      "_view_module": "@jupyter-widgets/controls",
      "_view_module_version": "1.5.0",
      "_view_name": "HTMLView",
      "description": "",
      "description_tooltip": null,
      "layout": "IPY_MODEL_edf885d00fcf46f784473ab2bebce7ca",
      "placeholder": "​",
      "style": "IPY_MODEL_c14bbb9952dd43a9b6826c88ec7b26e9",
      "value": " 9912422/9912422 [00:00&lt;00:00, 34889684.38it/s]"
     }
    },
    "1ddcb564f88a42b09093b9750e312680": {
     "model_module": "@jupyter-widgets/controls",
     "model_module_version": "1.5.0",
     "model_name": "FloatProgressModel",
     "state": {
      "_dom_classes": [],
      "_model_module": "@jupyter-widgets/controls",
      "_model_module_version": "1.5.0",
      "_model_name": "FloatProgressModel",
      "_view_count": null,
      "_view_module": "@jupyter-widgets/controls",
      "_view_module_version": "1.5.0",
      "_view_name": "ProgressView",
      "bar_style": "success",
      "description": "",
      "description_tooltip": null,
      "layout": "IPY_MODEL_1d7b1125c048464ea823160a644cb94c",
      "max": 9912422,
      "min": 0,
      "orientation": "horizontal",
      "style": "IPY_MODEL_a4dfec7ee0244ecbb8d69d82ae22ebee",
      "value": 9912422
     }
    },
    "1e81a0b7f6d74aba98417136149a7c25": {
     "model_module": "@jupyter-widgets/controls",
     "model_module_version": "1.5.0",
     "model_name": "DescriptionStyleModel",
     "state": {
      "_model_module": "@jupyter-widgets/controls",
      "_model_module_version": "1.5.0",
      "_model_name": "DescriptionStyleModel",
      "_view_count": null,
      "_view_module": "@jupyter-widgets/base",
      "_view_module_version": "1.2.0",
      "_view_name": "StyleView",
      "description_width": ""
     }
    },
    "2768086e8af54b89a8deb5f3a3846b79": {
     "model_module": "@jupyter-widgets/controls",
     "model_module_version": "1.5.0",
     "model_name": "FloatProgressModel",
     "state": {
      "_dom_classes": [],
      "_model_module": "@jupyter-widgets/controls",
      "_model_module_version": "1.5.0",
      "_model_name": "FloatProgressModel",
      "_view_count": null,
      "_view_module": "@jupyter-widgets/controls",
      "_view_module_version": "1.5.0",
      "_view_name": "ProgressView",
      "bar_style": "success",
      "description": "",
      "description_tooltip": null,
      "layout": "IPY_MODEL_2baa8e0b96a84f08967975094d100f2a",
      "max": 4542,
      "min": 0,
      "orientation": "horizontal",
      "style": "IPY_MODEL_562c05dd74b1419e99a01cfeeeaf46d4",
      "value": 4542
     }
    },
    "2baa8e0b96a84f08967975094d100f2a": {
     "model_module": "@jupyter-widgets/base",
     "model_module_version": "1.2.0",
     "model_name": "LayoutModel",
     "state": {
      "_model_module": "@jupyter-widgets/base",
      "_model_module_version": "1.2.0",
      "_model_name": "LayoutModel",
      "_view_count": null,
      "_view_module": "@jupyter-widgets/base",
      "_view_module_version": "1.2.0",
      "_view_name": "LayoutView",
      "align_content": null,
      "align_items": null,
      "align_self": null,
      "border": null,
      "bottom": null,
      "display": null,
      "flex": null,
      "flex_flow": null,
      "grid_area": null,
      "grid_auto_columns": null,
      "grid_auto_flow": null,
      "grid_auto_rows": null,
      "grid_column": null,
      "grid_gap": null,
      "grid_row": null,
      "grid_template_areas": null,
      "grid_template_columns": null,
      "grid_template_rows": null,
      "height": null,
      "justify_content": null,
      "justify_items": null,
      "left": null,
      "margin": null,
      "max_height": null,
      "max_width": null,
      "min_height": null,
      "min_width": null,
      "object_fit": null,
      "object_position": null,
      "order": null,
      "overflow": null,
      "overflow_x": null,
      "overflow_y": null,
      "padding": null,
      "right": null,
      "top": null,
      "visibility": null,
      "width": null
     }
    },
    "2e18702deba7494f82ba64e85f54c3b0": {
     "model_module": "@jupyter-widgets/controls",
     "model_module_version": "1.5.0",
     "model_name": "DescriptionStyleModel",
     "state": {
      "_model_module": "@jupyter-widgets/controls",
      "_model_module_version": "1.5.0",
      "_model_name": "DescriptionStyleModel",
      "_view_count": null,
      "_view_module": "@jupyter-widgets/base",
      "_view_module_version": "1.2.0",
      "_view_name": "StyleView",
      "description_width": ""
     }
    },
    "3340a8509771416999d24de04f9fc7ed": {
     "model_module": "@jupyter-widgets/controls",
     "model_module_version": "1.5.0",
     "model_name": "HBoxModel",
     "state": {
      "_dom_classes": [],
      "_model_module": "@jupyter-widgets/controls",
      "_model_module_version": "1.5.0",
      "_model_name": "HBoxModel",
      "_view_count": null,
      "_view_module": "@jupyter-widgets/controls",
      "_view_module_version": "1.5.0",
      "_view_name": "HBoxView",
      "box_style": "",
      "children": [
       "IPY_MODEL_395869cc26a54890a13411827eddd02d",
       "IPY_MODEL_44ba2ee8fb57423a90e43683c5e1be3e",
       "IPY_MODEL_c8ba056df5424a8092139d58c89274ca"
      ],
      "layout": "IPY_MODEL_3549fce24fd240b1ab1362afa1b12464"
     }
    },
    "3549fce24fd240b1ab1362afa1b12464": {
     "model_module": "@jupyter-widgets/base",
     "model_module_version": "1.2.0",
     "model_name": "LayoutModel",
     "state": {
      "_model_module": "@jupyter-widgets/base",
      "_model_module_version": "1.2.0",
      "_model_name": "LayoutModel",
      "_view_count": null,
      "_view_module": "@jupyter-widgets/base",
      "_view_module_version": "1.2.0",
      "_view_name": "LayoutView",
      "align_content": null,
      "align_items": null,
      "align_self": null,
      "border": null,
      "bottom": null,
      "display": null,
      "flex": null,
      "flex_flow": null,
      "grid_area": null,
      "grid_auto_columns": null,
      "grid_auto_flow": null,
      "grid_auto_rows": null,
      "grid_column": null,
      "grid_gap": null,
      "grid_row": null,
      "grid_template_areas": null,
      "grid_template_columns": null,
      "grid_template_rows": null,
      "height": null,
      "justify_content": null,
      "justify_items": null,
      "left": null,
      "margin": null,
      "max_height": null,
      "max_width": null,
      "min_height": null,
      "min_width": null,
      "object_fit": null,
      "object_position": null,
      "order": null,
      "overflow": null,
      "overflow_x": null,
      "overflow_y": null,
      "padding": null,
      "right": null,
      "top": null,
      "visibility": null,
      "width": null
     }
    },
    "395869cc26a54890a13411827eddd02d": {
     "model_module": "@jupyter-widgets/controls",
     "model_module_version": "1.5.0",
     "model_name": "HTMLModel",
     "state": {
      "_dom_classes": [],
      "_model_module": "@jupyter-widgets/controls",
      "_model_module_version": "1.5.0",
      "_model_name": "HTMLModel",
      "_view_count": null,
      "_view_module": "@jupyter-widgets/controls",
      "_view_module_version": "1.5.0",
      "_view_name": "HTMLView",
      "description": "",
      "description_tooltip": null,
      "layout": "IPY_MODEL_d3f33e6ee82d4a72aa0d95117f3133ff",
      "placeholder": "​",
      "style": "IPY_MODEL_556a950135804afe92f55b49904b9d34",
      "value": "100%"
     }
    },
    "3a5cc1aa5d1247b3aef51dc263b3cc0c": {
     "model_module": "@jupyter-widgets/controls",
     "model_module_version": "1.5.0",
     "model_name": "HBoxModel",
     "state": {
      "_dom_classes": [],
      "_model_module": "@jupyter-widgets/controls",
      "_model_module_version": "1.5.0",
      "_model_name": "HBoxModel",
      "_view_count": null,
      "_view_module": "@jupyter-widgets/controls",
      "_view_module_version": "1.5.0",
      "_view_name": "HBoxView",
      "box_style": "",
      "children": [
       "IPY_MODEL_bd41d80c3a39481aa0be5da923741a2f",
       "IPY_MODEL_1ddcb564f88a42b09093b9750e312680",
       "IPY_MODEL_1d9283cbd0c0437797f31d89a47e89e2"
      ],
      "layout": "IPY_MODEL_edc0b50a8a6748df94c5e947beab2c1b"
     }
    },
    "3de268f941ef4e91b6cfb613e3715f16": {
     "model_module": "@jupyter-widgets/controls",
     "model_module_version": "1.5.0",
     "model_name": "ProgressStyleModel",
     "state": {
      "_model_module": "@jupyter-widgets/controls",
      "_model_module_version": "1.5.0",
      "_model_name": "ProgressStyleModel",
      "_view_count": null,
      "_view_module": "@jupyter-widgets/base",
      "_view_module_version": "1.2.0",
      "_view_name": "StyleView",
      "bar_color": null,
      "description_width": ""
     }
    },
    "3e75b5b13a3c4631a5dec36eb71edabc": {
     "model_module": "@jupyter-widgets/controls",
     "model_module_version": "1.5.0",
     "model_name": "HTMLModel",
     "state": {
      "_dom_classes": [],
      "_model_module": "@jupyter-widgets/controls",
      "_model_module_version": "1.5.0",
      "_model_name": "HTMLModel",
      "_view_count": null,
      "_view_module": "@jupyter-widgets/controls",
      "_view_module_version": "1.5.0",
      "_view_name": "HTMLView",
      "description": "",
      "description_tooltip": null,
      "layout": "IPY_MODEL_10898414eb4d402389b7e4cf3a18d326",
      "placeholder": "​",
      "style": "IPY_MODEL_abdc0b273bac4dc8aa027baf2bd80799",
      "value": " 4542/4542 [00:00&lt;00:00, 169642.64it/s]"
     }
    },
    "43b28443281b4c6e9346594841f23d82": {
     "model_module": "@jupyter-widgets/controls",
     "model_module_version": "1.5.0",
     "model_name": "HBoxModel",
     "state": {
      "_dom_classes": [],
      "_model_module": "@jupyter-widgets/controls",
      "_model_module_version": "1.5.0",
      "_model_name": "HBoxModel",
      "_view_count": null,
      "_view_module": "@jupyter-widgets/controls",
      "_view_module_version": "1.5.0",
      "_view_name": "HBoxView",
      "box_style": "",
      "children": [
       "IPY_MODEL_631c57e6dd654a21bb0d870f2738e639",
       "IPY_MODEL_2768086e8af54b89a8deb5f3a3846b79",
       "IPY_MODEL_3e75b5b13a3c4631a5dec36eb71edabc"
      ],
      "layout": "IPY_MODEL_a91362834e5b40dca5f74fd3585fbf48"
     }
    },
    "44ba2ee8fb57423a90e43683c5e1be3e": {
     "model_module": "@jupyter-widgets/controls",
     "model_module_version": "1.5.0",
     "model_name": "FloatProgressModel",
     "state": {
      "_dom_classes": [],
      "_model_module": "@jupyter-widgets/controls",
      "_model_module_version": "1.5.0",
      "_model_name": "FloatProgressModel",
      "_view_count": null,
      "_view_module": "@jupyter-widgets/controls",
      "_view_module_version": "1.5.0",
      "_view_name": "ProgressView",
      "bar_style": "success",
      "description": "",
      "description_tooltip": null,
      "layout": "IPY_MODEL_d71379c87e51447084fca5ecce75f2da",
      "max": 1648877,
      "min": 0,
      "orientation": "horizontal",
      "style": "IPY_MODEL_3de268f941ef4e91b6cfb613e3715f16",
      "value": 1648877
     }
    },
    "4980d82a125b44b4a4f960292885b35f": {
     "model_module": "@jupyter-widgets/base",
     "model_module_version": "1.2.0",
     "model_name": "LayoutModel",
     "state": {
      "_model_module": "@jupyter-widgets/base",
      "_model_module_version": "1.2.0",
      "_model_name": "LayoutModel",
      "_view_count": null,
      "_view_module": "@jupyter-widgets/base",
      "_view_module_version": "1.2.0",
      "_view_name": "LayoutView",
      "align_content": null,
      "align_items": null,
      "align_self": null,
      "border": null,
      "bottom": null,
      "display": null,
      "flex": null,
      "flex_flow": null,
      "grid_area": null,
      "grid_auto_columns": null,
      "grid_auto_flow": null,
      "grid_auto_rows": null,
      "grid_column": null,
      "grid_gap": null,
      "grid_row": null,
      "grid_template_areas": null,
      "grid_template_columns": null,
      "grid_template_rows": null,
      "height": null,
      "justify_content": null,
      "justify_items": null,
      "left": null,
      "margin": null,
      "max_height": null,
      "max_width": null,
      "min_height": null,
      "min_width": null,
      "object_fit": null,
      "object_position": null,
      "order": null,
      "overflow": null,
      "overflow_x": null,
      "overflow_y": null,
      "padding": null,
      "right": null,
      "top": null,
      "visibility": null,
      "width": null
     }
    },
    "556a950135804afe92f55b49904b9d34": {
     "model_module": "@jupyter-widgets/controls",
     "model_module_version": "1.5.0",
     "model_name": "DescriptionStyleModel",
     "state": {
      "_model_module": "@jupyter-widgets/controls",
      "_model_module_version": "1.5.0",
      "_model_name": "DescriptionStyleModel",
      "_view_count": null,
      "_view_module": "@jupyter-widgets/base",
      "_view_module_version": "1.2.0",
      "_view_name": "StyleView",
      "description_width": ""
     }
    },
    "562c05dd74b1419e99a01cfeeeaf46d4": {
     "model_module": "@jupyter-widgets/controls",
     "model_module_version": "1.5.0",
     "model_name": "ProgressStyleModel",
     "state": {
      "_model_module": "@jupyter-widgets/controls",
      "_model_module_version": "1.5.0",
      "_model_name": "ProgressStyleModel",
      "_view_count": null,
      "_view_module": "@jupyter-widgets/base",
      "_view_module_version": "1.2.0",
      "_view_name": "StyleView",
      "bar_color": null,
      "description_width": ""
     }
    },
    "593d73e17daf4d94a3dfe33783e21265": {
     "model_module": "@jupyter-widgets/controls",
     "model_module_version": "1.5.0",
     "model_name": "HTMLModel",
     "state": {
      "_dom_classes": [],
      "_model_module": "@jupyter-widgets/controls",
      "_model_module_version": "1.5.0",
      "_model_name": "HTMLModel",
      "_view_count": null,
      "_view_module": "@jupyter-widgets/controls",
      "_view_module_version": "1.5.0",
      "_view_name": "HTMLView",
      "description": "",
      "description_tooltip": null,
      "layout": "IPY_MODEL_04da3626119b4a0fa3f88dc3c0873993",
      "placeholder": "​",
      "style": "IPY_MODEL_2e18702deba7494f82ba64e85f54c3b0",
      "value": "100%"
     }
    },
    "5d50f0ce749d43b1aff758f593274bb3": {
     "model_module": "@jupyter-widgets/base",
     "model_module_version": "1.2.0",
     "model_name": "LayoutModel",
     "state": {
      "_model_module": "@jupyter-widgets/base",
      "_model_module_version": "1.2.0",
      "_model_name": "LayoutModel",
      "_view_count": null,
      "_view_module": "@jupyter-widgets/base",
      "_view_module_version": "1.2.0",
      "_view_name": "LayoutView",
      "align_content": null,
      "align_items": null,
      "align_self": null,
      "border": null,
      "bottom": null,
      "display": null,
      "flex": null,
      "flex_flow": null,
      "grid_area": null,
      "grid_auto_columns": null,
      "grid_auto_flow": null,
      "grid_auto_rows": null,
      "grid_column": null,
      "grid_gap": null,
      "grid_row": null,
      "grid_template_areas": null,
      "grid_template_columns": null,
      "grid_template_rows": null,
      "height": null,
      "justify_content": null,
      "justify_items": null,
      "left": null,
      "margin": null,
      "max_height": null,
      "max_width": null,
      "min_height": null,
      "min_width": null,
      "object_fit": null,
      "object_position": null,
      "order": null,
      "overflow": null,
      "overflow_x": null,
      "overflow_y": null,
      "padding": null,
      "right": null,
      "top": null,
      "visibility": null,
      "width": null
     }
    },
    "631c57e6dd654a21bb0d870f2738e639": {
     "model_module": "@jupyter-widgets/controls",
     "model_module_version": "1.5.0",
     "model_name": "HTMLModel",
     "state": {
      "_dom_classes": [],
      "_model_module": "@jupyter-widgets/controls",
      "_model_module_version": "1.5.0",
      "_model_name": "HTMLModel",
      "_view_count": null,
      "_view_module": "@jupyter-widgets/controls",
      "_view_module_version": "1.5.0",
      "_view_name": "HTMLView",
      "description": "",
      "description_tooltip": null,
      "layout": "IPY_MODEL_5d50f0ce749d43b1aff758f593274bb3",
      "placeholder": "​",
      "style": "IPY_MODEL_a3b8bdedb5364e07be33674c64bd6cca",
      "value": "100%"
     }
    },
    "9313e64057194e4e940fe327b50bd122": {
     "model_module": "@jupyter-widgets/base",
     "model_module_version": "1.2.0",
     "model_name": "LayoutModel",
     "state": {
      "_model_module": "@jupyter-widgets/base",
      "_model_module_version": "1.2.0",
      "_model_name": "LayoutModel",
      "_view_count": null,
      "_view_module": "@jupyter-widgets/base",
      "_view_module_version": "1.2.0",
      "_view_name": "LayoutView",
      "align_content": null,
      "align_items": null,
      "align_self": null,
      "border": null,
      "bottom": null,
      "display": null,
      "flex": null,
      "flex_flow": null,
      "grid_area": null,
      "grid_auto_columns": null,
      "grid_auto_flow": null,
      "grid_auto_rows": null,
      "grid_column": null,
      "grid_gap": null,
      "grid_row": null,
      "grid_template_areas": null,
      "grid_template_columns": null,
      "grid_template_rows": null,
      "height": null,
      "justify_content": null,
      "justify_items": null,
      "left": null,
      "margin": null,
      "max_height": null,
      "max_width": null,
      "min_height": null,
      "min_width": null,
      "object_fit": null,
      "object_position": null,
      "order": null,
      "overflow": null,
      "overflow_x": null,
      "overflow_y": null,
      "padding": null,
      "right": null,
      "top": null,
      "visibility": null,
      "width": null
     }
    },
    "980678e74d144e648dd0b599acfd4152": {
     "model_module": "@jupyter-widgets/controls",
     "model_module_version": "1.5.0",
     "model_name": "HBoxModel",
     "state": {
      "_dom_classes": [],
      "_model_module": "@jupyter-widgets/controls",
      "_model_module_version": "1.5.0",
      "_model_name": "HBoxModel",
      "_view_count": null,
      "_view_module": "@jupyter-widgets/controls",
      "_view_module_version": "1.5.0",
      "_view_name": "HBoxView",
      "box_style": "",
      "children": [
       "IPY_MODEL_593d73e17daf4d94a3dfe33783e21265",
       "IPY_MODEL_103768d464ec492498d4cc0ba42a2a56",
       "IPY_MODEL_f3b26c16cd034d6799469927a3411b6a"
      ],
      "layout": "IPY_MODEL_e39f51f3c5274f75b065c39b12001861"
     }
    },
    "a3b8bdedb5364e07be33674c64bd6cca": {
     "model_module": "@jupyter-widgets/controls",
     "model_module_version": "1.5.0",
     "model_name": "DescriptionStyleModel",
     "state": {
      "_model_module": "@jupyter-widgets/controls",
      "_model_module_version": "1.5.0",
      "_model_name": "DescriptionStyleModel",
      "_view_count": null,
      "_view_module": "@jupyter-widgets/base",
      "_view_module_version": "1.2.0",
      "_view_name": "StyleView",
      "description_width": ""
     }
    },
    "a4dfec7ee0244ecbb8d69d82ae22ebee": {
     "model_module": "@jupyter-widgets/controls",
     "model_module_version": "1.5.0",
     "model_name": "ProgressStyleModel",
     "state": {
      "_model_module": "@jupyter-widgets/controls",
      "_model_module_version": "1.5.0",
      "_model_name": "ProgressStyleModel",
      "_view_count": null,
      "_view_module": "@jupyter-widgets/base",
      "_view_module_version": "1.2.0",
      "_view_name": "StyleView",
      "bar_color": null,
      "description_width": ""
     }
    },
    "a75595bac0c74c37981f05cda3025cf2": {
     "model_module": "@jupyter-widgets/controls",
     "model_module_version": "1.5.0",
     "model_name": "ProgressStyleModel",
     "state": {
      "_model_module": "@jupyter-widgets/controls",
      "_model_module_version": "1.5.0",
      "_model_name": "ProgressStyleModel",
      "_view_count": null,
      "_view_module": "@jupyter-widgets/base",
      "_view_module_version": "1.2.0",
      "_view_name": "StyleView",
      "bar_color": null,
      "description_width": ""
     }
    },
    "a91362834e5b40dca5f74fd3585fbf48": {
     "model_module": "@jupyter-widgets/base",
     "model_module_version": "1.2.0",
     "model_name": "LayoutModel",
     "state": {
      "_model_module": "@jupyter-widgets/base",
      "_model_module_version": "1.2.0",
      "_model_name": "LayoutModel",
      "_view_count": null,
      "_view_module": "@jupyter-widgets/base",
      "_view_module_version": "1.2.0",
      "_view_name": "LayoutView",
      "align_content": null,
      "align_items": null,
      "align_self": null,
      "border": null,
      "bottom": null,
      "display": null,
      "flex": null,
      "flex_flow": null,
      "grid_area": null,
      "grid_auto_columns": null,
      "grid_auto_flow": null,
      "grid_auto_rows": null,
      "grid_column": null,
      "grid_gap": null,
      "grid_row": null,
      "grid_template_areas": null,
      "grid_template_columns": null,
      "grid_template_rows": null,
      "height": null,
      "justify_content": null,
      "justify_items": null,
      "left": null,
      "margin": null,
      "max_height": null,
      "max_width": null,
      "min_height": null,
      "min_width": null,
      "object_fit": null,
      "object_position": null,
      "order": null,
      "overflow": null,
      "overflow_x": null,
      "overflow_y": null,
      "padding": null,
      "right": null,
      "top": null,
      "visibility": null,
      "width": null
     }
    },
    "abdc0b273bac4dc8aa027baf2bd80799": {
     "model_module": "@jupyter-widgets/controls",
     "model_module_version": "1.5.0",
     "model_name": "DescriptionStyleModel",
     "state": {
      "_model_module": "@jupyter-widgets/controls",
      "_model_module_version": "1.5.0",
      "_model_name": "DescriptionStyleModel",
      "_view_count": null,
      "_view_module": "@jupyter-widgets/base",
      "_view_module_version": "1.2.0",
      "_view_name": "StyleView",
      "description_width": ""
     }
    },
    "ac6d6a7d7e354ef0aaf63c69f944c6b1": {
     "model_module": "@jupyter-widgets/base",
     "model_module_version": "1.2.0",
     "model_name": "LayoutModel",
     "state": {
      "_model_module": "@jupyter-widgets/base",
      "_model_module_version": "1.2.0",
      "_model_name": "LayoutModel",
      "_view_count": null,
      "_view_module": "@jupyter-widgets/base",
      "_view_module_version": "1.2.0",
      "_view_name": "LayoutView",
      "align_content": null,
      "align_items": null,
      "align_self": null,
      "border": null,
      "bottom": null,
      "display": null,
      "flex": null,
      "flex_flow": null,
      "grid_area": null,
      "grid_auto_columns": null,
      "grid_auto_flow": null,
      "grid_auto_rows": null,
      "grid_column": null,
      "grid_gap": null,
      "grid_row": null,
      "grid_template_areas": null,
      "grid_template_columns": null,
      "grid_template_rows": null,
      "height": null,
      "justify_content": null,
      "justify_items": null,
      "left": null,
      "margin": null,
      "max_height": null,
      "max_width": null,
      "min_height": null,
      "min_width": null,
      "object_fit": null,
      "object_position": null,
      "order": null,
      "overflow": null,
      "overflow_x": null,
      "overflow_y": null,
      "padding": null,
      "right": null,
      "top": null,
      "visibility": null,
      "width": null
     }
    },
    "b4538c0964c142748dbaca51c7bd9e87": {
     "model_module": "@jupyter-widgets/controls",
     "model_module_version": "1.5.0",
     "model_name": "DescriptionStyleModel",
     "state": {
      "_model_module": "@jupyter-widgets/controls",
      "_model_module_version": "1.5.0",
      "_model_name": "DescriptionStyleModel",
      "_view_count": null,
      "_view_module": "@jupyter-widgets/base",
      "_view_module_version": "1.2.0",
      "_view_name": "StyleView",
      "description_width": ""
     }
    },
    "bd41d80c3a39481aa0be5da923741a2f": {
     "model_module": "@jupyter-widgets/controls",
     "model_module_version": "1.5.0",
     "model_name": "HTMLModel",
     "state": {
      "_dom_classes": [],
      "_model_module": "@jupyter-widgets/controls",
      "_model_module_version": "1.5.0",
      "_model_name": "HTMLModel",
      "_view_count": null,
      "_view_module": "@jupyter-widgets/controls",
      "_view_module_version": "1.5.0",
      "_view_name": "HTMLView",
      "description": "",
      "description_tooltip": null,
      "layout": "IPY_MODEL_9313e64057194e4e940fe327b50bd122",
      "placeholder": "​",
      "style": "IPY_MODEL_b4538c0964c142748dbaca51c7bd9e87",
      "value": "100%"
     }
    },
    "c14bbb9952dd43a9b6826c88ec7b26e9": {
     "model_module": "@jupyter-widgets/controls",
     "model_module_version": "1.5.0",
     "model_name": "DescriptionStyleModel",
     "state": {
      "_model_module": "@jupyter-widgets/controls",
      "_model_module_version": "1.5.0",
      "_model_name": "DescriptionStyleModel",
      "_view_count": null,
      "_view_module": "@jupyter-widgets/base",
      "_view_module_version": "1.2.0",
      "_view_name": "StyleView",
      "description_width": ""
     }
    },
    "c5589afaf36642ea8325b3ef5ae3cfd7": {
     "model_module": "@jupyter-widgets/controls",
     "model_module_version": "1.5.0",
     "model_name": "DescriptionStyleModel",
     "state": {
      "_model_module": "@jupyter-widgets/controls",
      "_model_module_version": "1.5.0",
      "_model_name": "DescriptionStyleModel",
      "_view_count": null,
      "_view_module": "@jupyter-widgets/base",
      "_view_module_version": "1.2.0",
      "_view_name": "StyleView",
      "description_width": ""
     }
    },
    "c8ba056df5424a8092139d58c89274ca": {
     "model_module": "@jupyter-widgets/controls",
     "model_module_version": "1.5.0",
     "model_name": "HTMLModel",
     "state": {
      "_dom_classes": [],
      "_model_module": "@jupyter-widgets/controls",
      "_model_module_version": "1.5.0",
      "_model_name": "HTMLModel",
      "_view_count": null,
      "_view_module": "@jupyter-widgets/controls",
      "_view_module_version": "1.5.0",
      "_view_name": "HTMLView",
      "description": "",
      "description_tooltip": null,
      "layout": "IPY_MODEL_de06651101284b11900105cf44b9ba1a",
      "placeholder": "​",
      "style": "IPY_MODEL_1e81a0b7f6d74aba98417136149a7c25",
      "value": " 1648877/1648877 [00:00&lt;00:00, 19381637.03it/s]"
     }
    },
    "d3f33e6ee82d4a72aa0d95117f3133ff": {
     "model_module": "@jupyter-widgets/base",
     "model_module_version": "1.2.0",
     "model_name": "LayoutModel",
     "state": {
      "_model_module": "@jupyter-widgets/base",
      "_model_module_version": "1.2.0",
      "_model_name": "LayoutModel",
      "_view_count": null,
      "_view_module": "@jupyter-widgets/base",
      "_view_module_version": "1.2.0",
      "_view_name": "LayoutView",
      "align_content": null,
      "align_items": null,
      "align_self": null,
      "border": null,
      "bottom": null,
      "display": null,
      "flex": null,
      "flex_flow": null,
      "grid_area": null,
      "grid_auto_columns": null,
      "grid_auto_flow": null,
      "grid_auto_rows": null,
      "grid_column": null,
      "grid_gap": null,
      "grid_row": null,
      "grid_template_areas": null,
      "grid_template_columns": null,
      "grid_template_rows": null,
      "height": null,
      "justify_content": null,
      "justify_items": null,
      "left": null,
      "margin": null,
      "max_height": null,
      "max_width": null,
      "min_height": null,
      "min_width": null,
      "object_fit": null,
      "object_position": null,
      "order": null,
      "overflow": null,
      "overflow_x": null,
      "overflow_y": null,
      "padding": null,
      "right": null,
      "top": null,
      "visibility": null,
      "width": null
     }
    },
    "d71379c87e51447084fca5ecce75f2da": {
     "model_module": "@jupyter-widgets/base",
     "model_module_version": "1.2.0",
     "model_name": "LayoutModel",
     "state": {
      "_model_module": "@jupyter-widgets/base",
      "_model_module_version": "1.2.0",
      "_model_name": "LayoutModel",
      "_view_count": null,
      "_view_module": "@jupyter-widgets/base",
      "_view_module_version": "1.2.0",
      "_view_name": "LayoutView",
      "align_content": null,
      "align_items": null,
      "align_self": null,
      "border": null,
      "bottom": null,
      "display": null,
      "flex": null,
      "flex_flow": null,
      "grid_area": null,
      "grid_auto_columns": null,
      "grid_auto_flow": null,
      "grid_auto_rows": null,
      "grid_column": null,
      "grid_gap": null,
      "grid_row": null,
      "grid_template_areas": null,
      "grid_template_columns": null,
      "grid_template_rows": null,
      "height": null,
      "justify_content": null,
      "justify_items": null,
      "left": null,
      "margin": null,
      "max_height": null,
      "max_width": null,
      "min_height": null,
      "min_width": null,
      "object_fit": null,
      "object_position": null,
      "order": null,
      "overflow": null,
      "overflow_x": null,
      "overflow_y": null,
      "padding": null,
      "right": null,
      "top": null,
      "visibility": null,
      "width": null
     }
    },
    "de06651101284b11900105cf44b9ba1a": {
     "model_module": "@jupyter-widgets/base",
     "model_module_version": "1.2.0",
     "model_name": "LayoutModel",
     "state": {
      "_model_module": "@jupyter-widgets/base",
      "_model_module_version": "1.2.0",
      "_model_name": "LayoutModel",
      "_view_count": null,
      "_view_module": "@jupyter-widgets/base",
      "_view_module_version": "1.2.0",
      "_view_name": "LayoutView",
      "align_content": null,
      "align_items": null,
      "align_self": null,
      "border": null,
      "bottom": null,
      "display": null,
      "flex": null,
      "flex_flow": null,
      "grid_area": null,
      "grid_auto_columns": null,
      "grid_auto_flow": null,
      "grid_auto_rows": null,
      "grid_column": null,
      "grid_gap": null,
      "grid_row": null,
      "grid_template_areas": null,
      "grid_template_columns": null,
      "grid_template_rows": null,
      "height": null,
      "justify_content": null,
      "justify_items": null,
      "left": null,
      "margin": null,
      "max_height": null,
      "max_width": null,
      "min_height": null,
      "min_width": null,
      "object_fit": null,
      "object_position": null,
      "order": null,
      "overflow": null,
      "overflow_x": null,
      "overflow_y": null,
      "padding": null,
      "right": null,
      "top": null,
      "visibility": null,
      "width": null
     }
    },
    "e39f51f3c5274f75b065c39b12001861": {
     "model_module": "@jupyter-widgets/base",
     "model_module_version": "1.2.0",
     "model_name": "LayoutModel",
     "state": {
      "_model_module": "@jupyter-widgets/base",
      "_model_module_version": "1.2.0",
      "_model_name": "LayoutModel",
      "_view_count": null,
      "_view_module": "@jupyter-widgets/base",
      "_view_module_version": "1.2.0",
      "_view_name": "LayoutView",
      "align_content": null,
      "align_items": null,
      "align_self": null,
      "border": null,
      "bottom": null,
      "display": null,
      "flex": null,
      "flex_flow": null,
      "grid_area": null,
      "grid_auto_columns": null,
      "grid_auto_flow": null,
      "grid_auto_rows": null,
      "grid_column": null,
      "grid_gap": null,
      "grid_row": null,
      "grid_template_areas": null,
      "grid_template_columns": null,
      "grid_template_rows": null,
      "height": null,
      "justify_content": null,
      "justify_items": null,
      "left": null,
      "margin": null,
      "max_height": null,
      "max_width": null,
      "min_height": null,
      "min_width": null,
      "object_fit": null,
      "object_position": null,
      "order": null,
      "overflow": null,
      "overflow_x": null,
      "overflow_y": null,
      "padding": null,
      "right": null,
      "top": null,
      "visibility": null,
      "width": null
     }
    },
    "edc0b50a8a6748df94c5e947beab2c1b": {
     "model_module": "@jupyter-widgets/base",
     "model_module_version": "1.2.0",
     "model_name": "LayoutModel",
     "state": {
      "_model_module": "@jupyter-widgets/base",
      "_model_module_version": "1.2.0",
      "_model_name": "LayoutModel",
      "_view_count": null,
      "_view_module": "@jupyter-widgets/base",
      "_view_module_version": "1.2.0",
      "_view_name": "LayoutView",
      "align_content": null,
      "align_items": null,
      "align_self": null,
      "border": null,
      "bottom": null,
      "display": null,
      "flex": null,
      "flex_flow": null,
      "grid_area": null,
      "grid_auto_columns": null,
      "grid_auto_flow": null,
      "grid_auto_rows": null,
      "grid_column": null,
      "grid_gap": null,
      "grid_row": null,
      "grid_template_areas": null,
      "grid_template_columns": null,
      "grid_template_rows": null,
      "height": null,
      "justify_content": null,
      "justify_items": null,
      "left": null,
      "margin": null,
      "max_height": null,
      "max_width": null,
      "min_height": null,
      "min_width": null,
      "object_fit": null,
      "object_position": null,
      "order": null,
      "overflow": null,
      "overflow_x": null,
      "overflow_y": null,
      "padding": null,
      "right": null,
      "top": null,
      "visibility": null,
      "width": null
     }
    },
    "edf885d00fcf46f784473ab2bebce7ca": {
     "model_module": "@jupyter-widgets/base",
     "model_module_version": "1.2.0",
     "model_name": "LayoutModel",
     "state": {
      "_model_module": "@jupyter-widgets/base",
      "_model_module_version": "1.2.0",
      "_model_name": "LayoutModel",
      "_view_count": null,
      "_view_module": "@jupyter-widgets/base",
      "_view_module_version": "1.2.0",
      "_view_name": "LayoutView",
      "align_content": null,
      "align_items": null,
      "align_self": null,
      "border": null,
      "bottom": null,
      "display": null,
      "flex": null,
      "flex_flow": null,
      "grid_area": null,
      "grid_auto_columns": null,
      "grid_auto_flow": null,
      "grid_auto_rows": null,
      "grid_column": null,
      "grid_gap": null,
      "grid_row": null,
      "grid_template_areas": null,
      "grid_template_columns": null,
      "grid_template_rows": null,
      "height": null,
      "justify_content": null,
      "justify_items": null,
      "left": null,
      "margin": null,
      "max_height": null,
      "max_width": null,
      "min_height": null,
      "min_width": null,
      "object_fit": null,
      "object_position": null,
      "order": null,
      "overflow": null,
      "overflow_x": null,
      "overflow_y": null,
      "padding": null,
      "right": null,
      "top": null,
      "visibility": null,
      "width": null
     }
    },
    "f3b26c16cd034d6799469927a3411b6a": {
     "model_module": "@jupyter-widgets/controls",
     "model_module_version": "1.5.0",
     "model_name": "HTMLModel",
     "state": {
      "_dom_classes": [],
      "_model_module": "@jupyter-widgets/controls",
      "_model_module_version": "1.5.0",
      "_model_name": "HTMLModel",
      "_view_count": null,
      "_view_module": "@jupyter-widgets/controls",
      "_view_module_version": "1.5.0",
      "_view_name": "HTMLView",
      "description": "",
      "description_tooltip": null,
      "layout": "IPY_MODEL_4980d82a125b44b4a4f960292885b35f",
      "placeholder": "​",
      "style": "IPY_MODEL_c5589afaf36642ea8325b3ef5ae3cfd7",
      "value": " 28881/28881 [00:00&lt;00:00, 1128186.99it/s]"
     }
    }
   }
  }
 },
 "nbformat": 4,
 "nbformat_minor": 1
}
